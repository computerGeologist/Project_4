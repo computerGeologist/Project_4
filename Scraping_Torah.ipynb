{
 "cells": [
  {
   "cell_type": "code",
   "execution_count": 1,
   "metadata": {},
   "outputs": [],
   "source": [
    "torah_links = ['https://www.jewishvirtuallibrary.org/bereishit-genesis-full-text', \n",
    "        'https://www.jewishvirtuallibrary.org/shemot-exodus-full-text',\n",
    "        'https://www.jewishvirtuallibrary.org/vayikra-leviticus-full-text',\n",
    "        'https://www.jewishvirtuallibrary.org/bamidbar-numbers-full-text',\n",
    "        'https://www.jewishvirtuallibrary.org/d-varim-deuteronomy-full-text']\n",
    "prophets_I_links =['https://www.jewishvirtuallibrary.org/yehoshua-joshua-full-text',\n",
    "                'https://www.jewishvirtuallibrary.org/shoftim-judges-full-text',\n",
    "                'https://www.jewishvirtuallibrary.org/shmuel-i-samuel-1-full-text',\n",
    "                'https://www.jewishvirtuallibrary.org/shmuel-ii-samuel-2-full-text',\n",
    "                'https://www.jewishvirtuallibrary.org/malachim-i-kings-1-full-text',\n",
    "                'https://www.jewishvirtuallibrary.org/malachim-ii-kings-2-full-text',\n",
    "                'https://www.jewishvirtuallibrary.org/yeshayahu-isaiah-full-text',\n",
    "                'https://www.jewishvirtuallibrary.org/yirmeyahu-jeremiah-full-text',\n",
    "                'https://www.jewishvirtuallibrary.org/yichezkel-ezekiel-full-text']\n",
    "prophets_II_links=['https://www.jewishvirtuallibrary.org/book-of-hosea',\n",
    "                  'https://www.jewishvirtuallibrary.org/book-of-joel',\n",
    "                  'https://www.jewishvirtuallibrary.org/book-of-amos',\n",
    "                  'https://www.jewishvirtuallibrary.org/book-of-obadiah',\n",
    "                  'https://www.jewishvirtuallibrary.org/book-of-jonah',\n",
    "                  'https://www.jewishvirtuallibrary.org/book-of-micah',\n",
    "                  'https://www.jewishvirtuallibrary.org/book-of-nahum',\n",
    "                  'https://www.jewishvirtuallibrary.org/book-of-habakkuk',\n",
    "                  'https://www.jewishvirtuallibrary.org/book-of-zephaniah',\n",
    "                  'https://www.jewishvirtuallibrary.org/book-of-haggai',\n",
    "                  'https://www.jewishvirtuallibrary.org/book-of-zechariah',\n",
    "                  'https://www.jewishvirtuallibrary.org/book-of-malachi']\n"
   ]
  },
  {
   "cell_type": "code",
   "execution_count": 2,
   "metadata": {},
   "outputs": [],
   "source": [
    "import pandas as pd\n",
    "import numpy as np\n",
    "from bs4 import BeautifulSoup\n",
    "import requests\n",
    "\n",
    "from nltk.tokenize import word_tokenize\n"
   ]
  },
  {
   "cell_type": "code",
   "execution_count": 3,
   "metadata": {},
   "outputs": [],
   "source": [
    "def loadPage(url):\n",
    "    response = requests.get(url, headers={'User-agent': \"Mozilla/5.0\"})\n",
    "    return response.text"
   ]
  },
  {
   "cell_type": "code",
   "execution_count": 4,
   "metadata": {},
   "outputs": [],
   "source": [
    "torah_pages = [loadPage(a) for a in torah_links]"
   ]
  },
  {
   "cell_type": "code",
   "execution_count": null,
   "metadata": {},
   "outputs": [],
   "source": []
  },
  {
   "cell_type": "code",
   "execution_count": 5,
   "metadata": {},
   "outputs": [],
   "source": [
    "torah_pages_soup = [BeautifulSoup(a, 'lxml') for a in torah_pages]"
   ]
  },
  {
   "cell_type": "code",
   "execution_count": 6,
   "metadata": {},
   "outputs": [],
   "source": [
    "books = [[p.text.split(\" \") for p in a.find_all('p')] for a in torah_pages_soup]\n",
    "\n",
    "indices = []\n",
    "book_index = 0\n",
    "for torah_book in books:\n",
    "    book_index+=1\n",
    "    for i in range(3):\n",
    "        torah_book.pop(-1)\n",
    "    new_book = []\n",
    "    for verse in torah_book:\n",
    "        while '' in verse:\n",
    "            verse.remove('')\n",
    "        verse[0] = str(book_index)+\":\"+verse[0]"
   ]
  },
  {
   "cell_type": "code",
   "execution_count": 7,
   "metadata": {},
   "outputs": [],
   "source": [
    "from nltk.tokenize import RegexpTokenizer\n",
    "from nltk.stem.lancaster import LancasterStemmer\n",
    "stemmer = LancasterStemmer()\n",
    "\n",
    "verse_tokenizer = RegexpTokenizer(\"[0-9]+:[0-9]+:[0-9]+[^:]+[^0-9:]\")\n",
    "\n",
    "books_assembled = [\" \".join(verse) for book in books for verse in book]\n",
    "books_fused = \" \".join(books_assembled)\n",
    "verses = verse_tokenizer.tokenize(books_fused)\n",
    "verses_minus_verses = [\" \".join(verse.split(\" \")[1:]) for verse in verses]\n",
    "verse_indices = np.array([verse.split(\" \")[0].split(\"\\xa0\")[0].split(\":\") for verse in verses])\n",
    "verse_indices = np.array([[int(x) for x in line] for line in verse_indices])"
   ]
  },
  {
   "cell_type": "code",
   "execution_count": 8,
   "metadata": {},
   "outputs": [],
   "source": [
    "from collections import defaultdict\n",
    "def group_by_chapter(verse_indices, verses):\n",
    "    by_chap = defaultdict(str)\n",
    "    for verse, indices in list(zip(verses, verse_indices)):\n",
    "        by_chap[str(indices[0:2])] += verse + \" \"\n",
    "    return by_chap\n",
    "    \n",
    "grouped_chapters = list(zip(*list(group_by_chapter(verse_indices, verses_minus_verses).items())))\n",
    "chapters = list(grouped_chapters[1])\n",
    "chapter_indices = list(grouped_chapters[0])"
   ]
  },
  {
   "cell_type": "code",
   "execution_count": 9,
   "metadata": {},
   "outputs": [],
   "source": [
    "vectorized = pd.DataFrame(chapters)\n",
    "vectorized.to_csv('Torah_Chapters.csv')"
   ]
  },
  {
   "cell_type": "code",
   "execution_count": 10,
   "metadata": {},
   "outputs": [],
   "source": [
    "pd.DataFrame(verses_minus_verses).to_csv('Torah_Verses.csv')"
   ]
  },
  {
   "cell_type": "code",
   "execution_count": null,
   "metadata": {},
   "outputs": [],
   "source": []
  }
 ],
 "metadata": {
  "kernelspec": {
   "display_name": "Python 3",
   "language": "python",
   "name": "python3"
  },
  "language_info": {
   "codemirror_mode": {
    "name": "ipython",
    "version": 3
   },
   "file_extension": ".py",
   "mimetype": "text/x-python",
   "name": "python",
   "nbconvert_exporter": "python",
   "pygments_lexer": "ipython3",
   "version": "3.8.5"
  }
 },
 "nbformat": 4,
 "nbformat_minor": 4
}

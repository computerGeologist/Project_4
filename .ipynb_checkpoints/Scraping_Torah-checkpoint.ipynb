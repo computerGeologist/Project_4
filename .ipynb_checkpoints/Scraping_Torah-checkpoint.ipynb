{
 "cells": [
  {
   "cell_type": "code",
   "execution_count": null,
   "metadata": {},
   "outputs": [],
   "source": [
    "torah_links = ['https://www.jewishvirtuallibrary.org/bereishit-genesis-full-text', \n",
    "        'https://www.jewishvirtuallibrary.org/shemot-exodus-full-text',\n",
    "        'https://www.jewishvirtuallibrary.org/vayikra-leviticus-full-text',\n",
    "        'https://www.jewishvirtuallibrary.org/bamidbar-numbers-full-text',\n",
    "        'https://www.jewishvirtuallibrary.org/d-varim-deuteronomy-full-text']\n",
    "prophets_I_links =['https://www.jewishvirtuallibrary.org/yehoshua-joshua-full-text',\n",
    "                'https://www.jewishvirtuallibrary.org/shoftim-judges-full-text',\n",
    "                'https://www.jewishvirtuallibrary.org/shmuel-i-samuel-1-full-text',\n",
    "                'https://www.jewishvirtuallibrary.org/shmuel-ii-samuel-2-full-text',\n",
    "                'https://www.jewishvirtuallibrary.org/malachim-i-kings-1-full-text',\n",
    "                'https://www.jewishvirtuallibrary.org/malachim-ii-kings-2-full-text',\n",
    "                'https://www.jewishvirtuallibrary.org/yeshayahu-isaiah-full-text',\n",
    "                'https://www.jewishvirtuallibrary.org/yirmeyahu-jeremiah-full-text',\n",
    "                'https://www.jewishvirtuallibrary.org/yichezkel-ezekiel-full-text']\n",
    "prophets_II_links=['https://www.jewishvirtuallibrary.org/book-of-hosea',\n",
    "                  'https://www.jewishvirtuallibrary.org/book-of-joel',\n",
    "                  'https://www.jewishvirtuallibrary.org/book-of-amos',\n",
    "                  'https://www.jewishvirtuallibrary.org/book-of-obadiah',\n",
    "                  'https://www.jewishvirtuallibrary.org/book-of-jonah',\n",
    "                  'https://www.jewishvirtuallibrary.org/book-of-micah',\n",
    "                  'https://www.jewishvirtuallibrary.org/book-of-nahum',\n",
    "                  'https://www.jewishvirtuallibrary.org/book-of-habakkuk',\n",
    "                  'https://www.jewishvirtuallibrary.org/book-of-zephaniah',\n",
    "                  'https://www.jewishvirtuallibrary.org/book-of-haggai',\n",
    "                  'https://www.jewishvirtuallibrary.org/book-of-zechariah',\n",
    "                  'https://www.jewishvirtuallibrary.org/book-of-malachi']\n",
    "writings_links = ['https://www.jewishvirtuallibrary.org/tehillim-psalms-full-text',\n",
    "                 'https://www.jewishvirtuallibrary.org/mishlei-proverbs-full-text',\n",
    "                 'https://www.jewishvirtuallibrary.org/iyov-job-full-text',\n",
    "                 'https://www.jewishvirtuallibrary.org/shir-hashirim-song-of-songs-full-text',\n",
    "                 'https://www.jewishvirtuallibrary.org/ruth-full-text',\n",
    "                 'https://www.jewishvirtuallibrary.org/eichah-lamentations-full-text',\n",
    "                 'https://www.jewishvirtuallibrary.org/kohelet-ecclesiastes-full-text',\n",
    "                 'https://www.jewishvirtuallibrary.org/esther-full-text',\n",
    "                 'https://www.jewishvirtuallibrary.org/daniel-full-text',\n",
    "                 'https://www.jewishvirtuallibrary.org/ezra-full-text',\n",
    "                 'https://www.jewishvirtuallibrary.org/nehemiah-full-text',\n",
    "                 'https://www.jewishvirtuallibrary.org/divrei-hayamim-i-chronicles-1-full-text',\n",
    "                 'https://www.jewishvirtuallibrary.org/divrei-hayamim-ii-chronicles-2-full-text']"
   ]
  },
  {
   "cell_type": "code",
   "execution_count": 2,
   "metadata": {},
   "outputs": [],
   "source": [
    "import pandas as pd\n",
    "import numpy as np\n",
    "from bs4 import BeautifulSoup\n",
    "import requests\n",
    "\n",
    "from nltk.tokenize import word_tokenize\n"
   ]
  },
  {
   "cell_type": "code",
   "execution_count": 3,
   "metadata": {},
   "outputs": [],
   "source": [
    "def loadPage(url):\n",
    "    response = requests.get(url, headers={'User-agent': \"Mozilla/5.0\"})\n",
    "    return response.text"
   ]
  },
  {
   "cell_type": "code",
   "execution_count": 4,
   "metadata": {},
   "outputs": [],
   "source": [
    "torah_pages = [loadPage(a) for a in torah_links]\n",
    "p1_pages = [loadPage(a) for a in prophets_I_links]\n",
    "p2_pages= [loadPage(a) for a in prophets_II_links]\n",
    "writing_pages= [loadPage(a) for a in writings_links]"
   ]
  },
  {
   "cell_type": "code",
   "execution_count": 5,
   "metadata": {},
   "outputs": [],
   "source": [
    "torah_pages_soup = [BeautifulSoup(a, 'lxml') for a in torah_pages]\n",
    "p1_pages_soup = [BeautifulSoup(a, 'lxml') for a in p1_pages]\n",
    "p2_pages_soup = [BeautifulSoup(a, 'lxml') for a in p2_pages]\n",
    "writing_pages_soup = [BeautifulSoup(a, 'lxml') for a in writing_pages]"
   ]
  },
  {
   "cell_type": "code",
   "execution_count": 6,
   "metadata": {},
   "outputs": [],
   "source": [
    "torah_books = [[p.text.split(\" \") for p in a.find_all('p')] for a in torah_pages_soup]\n",
    "p1_books = [[p.text.split(\" \") for p in a.find_all('p')] for a in p1_pages_soup]\n",
    "writing_books = [[p.text.split(\" \") for p in a.find_all('p')] for a in writing_pages_soup]\n",
    "\n",
    "books = torah_books#+p1_books\n",
    "\n",
    "indices = []\n",
    "book_index = 0\n",
    "for torah_book in books:\n",
    "    book_index+=1\n",
    "    for i in range(3):\n",
    "        torah_book.pop(-1)\n",
    "    new_book = []\n",
    "    for verse in torah_book:\n",
    "        while '' in verse:\n",
    "            verse.remove('')\n",
    "        verse[0] = str(book_index)+\":\"+verse[0]"
   ]
  },
  {
   "cell_type": "code",
   "execution_count": 7,
   "metadata": {},
   "outputs": [],
   "source": [
    "from nltk.tokenize import RegexpTokenizer\n",
    "\n",
    "verse_tokenizer = RegexpTokenizer(\"[0-9]+:[0-9]+:[0-9]+[^:]+[^0-9:]\")\n",
    "\n",
    "books_assembled = [\" \".join(verse) for book in books for verse in book]\n",
    "books_fused = \" \".join(books_assembled)\n",
    "verses = verse_tokenizer.tokenize(books_fused)\n",
    "verses_minus_verses = [\" \".join(verse.split(\" \")[1:]) for verse in verses]\n",
    "verse_indices = np.array([verse.split(\" \")[0].split(\"\\xa0\")[0].split(\":\") for verse in verses])\n",
    "verse_indices = np.array([[int(x) for x in line] for line in verse_indices])"
   ]
  },
  {
   "cell_type": "code",
   "execution_count": 8,
   "metadata": {},
   "outputs": [],
   "source": [
    "from collections import defaultdict\n",
    "def group_by_chapter(verse_indices, verses):\n",
    "    by_chap = defaultdict(str)\n",
    "    for verse, indices in list(zip(verses, verse_indices)):\n",
    "        by_chap[str(indices[0:2])] += verse + \" \"\n",
    "    return by_chap\n",
    "    \n",
    "grouped_chapters = list(zip(*list(group_by_chapter(verse_indices, verses_minus_verses).items())))\n",
    "chapters = list(grouped_chapters[1])\n",
    "chapter_indices = list(grouped_chapters[0])"
   ]
  },
  {
   "cell_type": "code",
   "execution_count": 9,
   "metadata": {},
   "outputs": [],
   "source": [
    "pd.DataFrame(chapters).to_csv('Torah_Chapters.csv')\n",
    "\n",
    "pd.DataFrame(verses_minus_verses).to_csv('Torah_Verses.csv')"
   ]
  },
  {
   "cell_type": "code",
   "execution_count": 10,
   "metadata": {
    "scrolled": true
   },
   "outputs": [],
   "source": [
    "pd.DataFrame(chapter_indices).to_csv('Chapter Indices.csv')"
   ]
  },
  {
   "cell_type": "code",
   "execution_count": null,
   "metadata": {},
   "outputs": [],
   "source": []
  },
  {
   "cell_type": "code",
   "execution_count": 12,
   "metadata": {},
   "outputs": [
    {
     "data": {
      "text/plain": [
       "4425"
      ]
     },
     "execution_count": 12,
     "metadata": {},
     "output_type": "execute_result"
    }
   ],
   "source": [
    "len(verse_indices)"
   ]
  },
  {
   "cell_type": "markdown",
   "metadata": {},
   "source": [
    "Okay, thoughts.\n",
    "I ideally want to label by verse. "
   ]
  },
  {
   "cell_type": "code",
   "execution_count": 37,
   "metadata": {},
   "outputs": [],
   "source": [
    "book = verse_indices[:, 0]\n",
    "chapter = verse_indices[:, 1]\n",
    "verse = verse_indices[:, 2]\n"
   ]
  },
  {
   "cell_type": "code",
   "execution_count": 1,
   "metadata": {},
   "outputs": [
    {
     "ename": "NameError",
     "evalue": "name 'np' is not defined",
     "output_type": "error",
     "traceback": [
      "\u001b[0;31m---------------------------------------------------------------------------\u001b[0m",
      "\u001b[0;31mNameError\u001b[0m                                 Traceback (most recent call last)",
      "\u001b[0;32m<ipython-input-1-c86e4345612a>\u001b[0m in \u001b[0;36m<module>\u001b[0;34m\u001b[0m\n\u001b[0;32m----> 1\u001b[0;31m \u001b[0mlabels\u001b[0m \u001b[0;34m=\u001b[0m \u001b[0mnp\u001b[0m\u001b[0;34m.\u001b[0m\u001b[0marray\u001b[0m\u001b[0;34m(\u001b[0m\u001b[0;34m[\u001b[0m\u001b[0;34m\"\"\u001b[0m\u001b[0;34m]\u001b[0m\u001b[0;34m*\u001b[0m\u001b[0mlen\u001b[0m\u001b[0;34m(\u001b[0m\u001b[0mverse_indices\u001b[0m\u001b[0;34m)\u001b[0m\u001b[0;34m)\u001b[0m\u001b[0;34m\u001b[0m\u001b[0;34m\u001b[0m\u001b[0m\n\u001b[0m\u001b[1;32m      2\u001b[0m \u001b[0mlabels\u001b[0m\u001b[0;34m[\u001b[0m\u001b[0;34m(\u001b[0m\u001b[0mbook\u001b[0m\u001b[0;34m==\u001b[0m\u001b[0;36m1\u001b[0m\u001b[0;34m)\u001b[0m\u001b[0;34m&\u001b[0m\u001b[0;34m(\u001b[0m\u001b[0mchapter\u001b[0m\u001b[0;34m==\u001b[0m\u001b[0;36m1\u001b[0m\u001b[0;34m)\u001b[0m\u001b[0;34m]\u001b[0m \u001b[0;34m=\u001b[0m \u001b[0;34m\"p\"\u001b[0m\u001b[0;34m\u001b[0m\u001b[0;34m\u001b[0m\u001b[0m\n\u001b[1;32m      3\u001b[0m \u001b[0mlabels\u001b[0m\u001b[0;34m[\u001b[0m\u001b[0;34m(\u001b[0m\u001b[0mbook\u001b[0m\u001b[0;34m==\u001b[0m\u001b[0;36m1\u001b[0m\u001b[0;34m)\u001b[0m\u001b[0;34m&\u001b[0m\u001b[0;34m(\u001b[0m\u001b[0mchapter\u001b[0m\u001b[0;34m==\u001b[0m\u001b[0;36m2\u001b[0m\u001b[0;34m)\u001b[0m\u001b[0;34m&\u001b[0m\u001b[0;34m(\u001b[0m\u001b[0mverse\u001b[0m\u001b[0;34m<\u001b[0m\u001b[0;36m4\u001b[0m\u001b[0;34m)\u001b[0m\u001b[0;34m]\u001b[0m \u001b[0;34m=\u001b[0m \u001b[0;34m\"p\"\u001b[0m\u001b[0;34m\u001b[0m\u001b[0;34m\u001b[0m\u001b[0m\n\u001b[1;32m      4\u001b[0m \u001b[0mlabels\u001b[0m\u001b[0;34m[\u001b[0m\u001b[0;34m(\u001b[0m\u001b[0mbook\u001b[0m\u001b[0;34m==\u001b[0m\u001b[0;36m1\u001b[0m\u001b[0;34m)\u001b[0m\u001b[0;34m&\u001b[0m\u001b[0;34m(\u001b[0m\u001b[0mchapter\u001b[0m\u001b[0;34m==\u001b[0m\u001b[0;36m2\u001b[0m\u001b[0;34m)\u001b[0m\u001b[0;34m&\u001b[0m\u001b[0;34m(\u001b[0m\u001b[0mverse\u001b[0m\u001b[0;34m>=\u001b[0m\u001b[0;36m4\u001b[0m\u001b[0;34m)\u001b[0m\u001b[0;34m]\u001b[0m \u001b[0;34m=\u001b[0m \u001b[0;34m\"y\"\u001b[0m\u001b[0;34m\u001b[0m\u001b[0;34m\u001b[0m\u001b[0m\n\u001b[1;32m      5\u001b[0m \u001b[0mlabels\u001b[0m\u001b[0;34m[\u001b[0m\u001b[0;34m(\u001b[0m\u001b[0mbook\u001b[0m\u001b[0;34m==\u001b[0m\u001b[0;36m1\u001b[0m\u001b[0;34m)\u001b[0m\u001b[0;34m&\u001b[0m\u001b[0;34m(\u001b[0m\u001b[0mchapter\u001b[0m\u001b[0;34m>=\u001b[0m\u001b[0;36m3\u001b[0m\u001b[0;34m)\u001b[0m\u001b[0;34m&\u001b[0m\u001b[0;34m(\u001b[0m\u001b[0mchapter\u001b[0m\u001b[0;34m<=\u001b[0m\u001b[0;36m35\u001b[0m\u001b[0;34m)\u001b[0m\u001b[0;34m]\u001b[0m \u001b[0;34m=\u001b[0m \u001b[0;34m\"y\"\u001b[0m\u001b[0;34m\u001b[0m\u001b[0;34m\u001b[0m\u001b[0m\n",
      "\u001b[0;31mNameError\u001b[0m: name 'np' is not defined"
     ]
    }
   ],
   "source": [
    "labels = np.array([\"\"]*len(verse_indices))\n",
    "labels[(book==1)&(chapter==1)] = \"p\"\n",
    "labels[(book==1)&(chapter==2)&(verse<4)] = \"p\"\n",
    "labels[(book==1)&(chapter==2)&(verse>=4)] = \"y\"\n",
    "labels[(book==1)&(chapter>=3)&(chapter<=35)] = \"y\"\n",
    "labels[(book==1)&(chapter>=36)]=\"p\" #(unclear if this is accurate; there's ambiguity.)\n",
    "\n",
    "labels[(book==2)] = \"y\"\n",
    "labels[(book==2)&(chapter>=25)&(chapter<=31)] = \"p\"\n",
    "labels[(book==2)&(chapter>=35)&(chapter<=40)] = \"p\"\n",
    "\n",
    "labels[(book==3)]=\"p\"\n",
    "\n",
    "labels[(book==4)&(chapter>=1)&(chapter<=9)] = \"p\"\n",
    "labels[(book==4)&(chapter==10)]='y'\n",
    "labels[(book==4)&(chapter==10)&(verse<=28)] = \"p\"\n",
    "labels[(book==4)&(chapter>=11)&(chapter<=14)]='y'\n",
    "labels[(book==4)&(chapter>=15)&(chapter<=20)]='p'\n",
    "labels[(book==4)&(chapter>=21)&(chapter<=24)]='y'\n",
    "labels[(book==4)&(chapter>=25)&(chapter<=31)]='p'\n",
    "labels[(book==4)&(chapter>=32)&(chapter<=32)]='y'\n",
    "labels[(book==4)&(chapter>=33)&(chapter<=36)]='p'\n",
    "labels[(book==5)]='d'"
   ]
  },
  {
   "cell_type": "code",
   "execution_count": 62,
   "metadata": {},
   "outputs": [],
   "source": [
    "pd.DataFrame(labels).to_csv('Verse_Labels.csv')"
   ]
  },
  {
   "cell_type": "code",
   "execution_count": 58,
   "metadata": {},
   "outputs": [
    {
     "data": {
      "text/plain": [
       "Counter({'p': 2089, 'y': 1675, 'd': 661})"
      ]
     },
     "execution_count": 58,
     "metadata": {},
     "output_type": "execute_result"
    }
   ],
   "source": [
    "from collections import Counter\n",
    "Counter(labels)"
   ]
  },
  {
   "cell_type": "code",
   "execution_count": 45,
   "metadata": {},
   "outputs": [
    {
     "data": {
      "text/plain": [
       "array([ True,  True,  True, ..., False, False, False])"
      ]
     },
     "execution_count": 45,
     "metadata": {},
     "output_type": "execute_result"
    }
   ],
   "source": []
  },
  {
   "cell_type": "code",
   "execution_count": null,
   "metadata": {},
   "outputs": [],
   "source": []
  }
 ],
 "metadata": {
  "kernelspec": {
   "display_name": "Python 3",
   "language": "python",
   "name": "python3"
  },
  "language_info": {
   "codemirror_mode": {
    "name": "ipython",
    "version": 3
   },
   "file_extension": ".py",
   "mimetype": "text/x-python",
   "name": "python",
   "nbconvert_exporter": "python",
   "pygments_lexer": "ipython3",
   "version": "3.8.5"
  }
 },
 "nbformat": 4,
 "nbformat_minor": 4
}
